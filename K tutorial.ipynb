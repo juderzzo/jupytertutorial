{
 "cells": [
  {
   "cell_type": "markdown",
   "metadata": {},
   "source": [
    "# An intoduction to K"
   ]
  },
  {
   "cell_type": "markdown",
   "metadata": {},
   "source": [
    "Since 1992, Arthur Whitney's k and its derivatives\n",
    "have served a small number of highly skilled (and highly paid) programmers\n",
    "to create high performance applications for finance and other data-intensive\n",
    "applications.\n",
    "While implementation efforts in other languages such as C++ and\n",
    "Java (and to a lesser extent Python) often involve thousands\n",
    "of lines of code, much of it built on top of libraries,\n",
    "the typical k applications is on the order of scores of lines of code\n",
    "without the need for libraries. The power is in the language itself.\n",
    "\n",
    "This tutorial aims to take users familiar with conventional languages\n",
    "to become competent programmers in the latest iteration of k, k7.\n",
    "The tutorial introduces language concepts, then presents examples.\n",
    "A good way to learn the language is to try to program the examples on your\n",
    "own. One should try to play with the given K exampels in this kernel to try to get a feeling for the basic functions in K"
   ]
  },
  {
   "cell_type": "markdown",
   "metadata": {},
   "source": [
    "K can be downloading using either of the follwing links: "
   ]
  },
  {
   "cell_type": "markdown",
   "metadata": {},
   "source": [
    "Mac OSX: https://kdo.enlnt.com/ae92938b/macos.zip "
   ]
  },
  {
   "cell_type": "markdown",
   "metadata": {},
   "source": [
    "Linux: https://kdo.enlnt.com/k "
   ]
  },
  {
   "cell_type": "markdown",
   "metadata": {},
   "source": [
    "### Array Power"
   ]
  },
  {
   "cell_type": "markdown",
   "metadata": {},
   "source": [
    "Different computer languages have different methods of handling arrays. Python arrays can store a variable amount of different data types, wheras in java, and array can only store a fixed amount of a specific data type. However, what most of these languages have in common is that they treat arrays as lists of data, and use loops to traverse through them in linear time. K is unique, as it instead treats arrays more like vectors in mathematics than lists of data. As a result, most scalar operations can be generalized nicely to arrays."
   ]
  },
  {
   "cell_type": "markdown",
   "metadata": {},
   "source": [
    "Initializing an array in K is as simple as simple as typing each element of the array with spaces in between. Let's initialize and array of the integers 1, 2, and 3"
   ]
  },
  {
   "cell_type": "code",
   "execution_count": 1,
   "metadata": {},
   "outputs": [
    {
     "name": "stdout",
     "output_type": "stream",
     "text": []
    },
    {
     "data": {
      "output": "1 2 3jhjh"
     },
     "metadata": {},
     "output_type": "display_data"
    }
   ],
   "source": [
    "1 2 3jhjh"
   ]
  },
  {
   "cell_type": "markdown",
   "metadata": {},
   "source": [
    "As you can see, the code just returns the array that was just initalized. Now let's try some scalar operations between 2 arrays and see what the computer returns\n"
   ]
  },
  {
   "cell_type": "code",
   "execution_count": 5,
   "metadata": {},
   "outputs": [
    {
     "name": "stdout",
     "output_type": "stream",
     "text": [
      "5 7 9"
     ]
    },
    {
     "data": {
      "output": "1 2 3 + 4 5 6"
     },
     "metadata": {},
     "output_type": "display_data"
    }
   ],
   "source": [
    "1 2 3 + 4 5 6"
   ]
  },
  {
   "cell_type": "code",
   "execution_count": 6,
   "metadata": {},
   "outputs": [
    {
     "name": "stdout",
     "output_type": "stream",
     "text": [
      "4 10 18"
     ]
    },
    {
     "data": {
      "output": "1 2 3 * 4 5 6"
     },
     "metadata": {},
     "output_type": "display_data"
    }
   ],
   "source": [
    "1 2 3 * 4 5 6"
   ]
  },
  {
   "cell_type": "markdown",
   "metadata": {},
   "source": [
    "These oprations just apply the scalar operation between each individual element of the array. However, if we try to do these same operations on two arrays of different lengths, we get a length error as the operation would not make sense."
   ]
  },
  {
   "cell_type": "code",
   "execution_count": 23,
   "metadata": {},
   "outputs": [
    {
     "name": "stdout",
     "output_type": "stream",
     "text": []
    },
    {
     "data": {
      "output": "1 2 3 + 4 5"
     },
     "metadata": {},
     "output_type": "display_data"
    }
   ],
   "source": [
    "1 2 3 + 4 5"
   ]
  },
  {
   "cell_type": "markdown",
   "metadata": {},
   "source": [
    "Now that we've seen how we can treat arrays as we would vectors, let's see how we can cleanly generate some arrays using the built in commands K has given us. We always have the options to type in our own array by spacing elements of the same data type apart from eachother, but we can also try generating arrays of 0s using the &, as well as ordered arrays."
   ]
  },
  {
   "cell_type": "code",
   "execution_count": 11,
   "metadata": {},
   "outputs": [
    {
     "name": "stdout",
     "output_type": "stream",
     "text": [
      "0 0 0 0 0 0 0 0 0 0"
     ]
    },
    {
     "data": {
      "output": "&10"
     },
     "metadata": {},
     "output_type": "display_data"
    }
   ],
   "source": [
    "&10"
   ]
  },
  {
   "cell_type": "markdown",
   "metadata": {},
   "source": [
    "The ! symbol generates arrays from 0 to a certain integer. They are summarized by k just as !10. In order to get k to print out the whole array, we can follow this symbol with a /. We also used the variable x to store this list. "
   ]
  },
  {
   "cell_type": "code",
   "execution_count": 24,
   "metadata": {},
   "outputs": [
    {
     "name": "stdout",
     "output_type": "stream",
     "text": [
      "0 1 2 3 4 5 6 7 8 9"
     ]
    },
    {
     "data": {
      "output": "x: !10\nx + 0 /"
     },
     "metadata": {},
     "output_type": "display_data"
    }
   ],
   "source": [
    "x: !10\n",
    "x + 0 /"
   ]
  },
  {
   "cell_type": "markdown",
   "metadata": {},
   "source": [
    "In the code above, we also added 0 to the array. But unlike the previous time we tried to add two arrays of differnet lengths and got an error, this time, K knew what to do. Let's see what happens when we add another scalar, say 5, to that same  array (we also defined it as the variable x, but we'll cover variables and functions later).  Also, something to note. If we were just to type x into the prompt, K would return !10 instead of the list to summarize."
   ]
  },
  {
   "cell_type": "code",
   "execution_count": 2,
   "metadata": {},
   "outputs": [
    {
     "name": "stdout",
     "output_type": "stream",
     "text": [
      "5 6 7 8 9 10 11 12 13 14"
     ]
    },
    {
     "data": {
      "output": "x: !10\nx + 5 /"
     },
     "metadata": {},
     "output_type": "display_data"
    }
   ],
   "source": [
    "x: !10\n",
    "x + 5 /"
   ]
  },
  {
   "cell_type": "markdown",
   "metadata": {},
   "source": [
    "As we can see, the scalar adds to each element of the list. If we chose to multiply by 5, we would achieve the same result:"
   ]
  },
  {
   "cell_type": "code",
   "execution_count": 11,
   "metadata": {},
   "outputs": [
    {
     "name": "stdout",
     "output_type": "stream",
     "text": [
      "0 5 10 15 20 25 30 35 40 45"
     ]
    },
    {
     "data": {
      "output": "x: !10\nx * 5"
     },
     "metadata": {},
     "output_type": "display_data"
    }
   ],
   "source": [
    "x: !10\n",
    "x * 5"
   ]
  },
  {
   "cell_type": "markdown",
   "metadata": {},
   "source": [
    "There are many ways to generate lists, including by using the \"rand\" operator"
   ]
  },
  {
   "cell_type": "code",
   "execution_count": 13,
   "metadata": {},
   "outputs": [
    {
     "name": "stdout",
     "output_type": "stream",
     "text": [
      "46 8 29 37 40 40 36 18 45 10"
     ]
    },
    {
     "data": {
      "output": "10 rand 50"
     },
     "metadata": {},
     "output_type": "display_data"
    }
   ],
   "source": [
    "10 rand 50"
   ]
  },
  {
   "cell_type": "markdown",
   "metadata": {},
   "source": [
    "10 rand 50 generates 10 items from 0 to 50 with replacement. We can also use rand to generate nonintegers between 0 and 1 with uniform distribution"
   ]
  },
  {
   "cell_type": "code",
   "execution_count": 14,
   "metadata": {},
   "outputs": [
    {
     "name": "stdout",
     "output_type": "stream",
     "text": [
      "0.782244 0.3937393 0.4717788 0.2755357 0.1641728 0.9861826 0.8855961 0.8124984 0.4181036 0.02729362 0.518861 0.05959886 0.03008342 0.01638087 0.1216669 0.6931924 0.7684381 0.9555059 0.1317085 0.08602462"
     ]
    },
    {
     "data": {
      "output": "rand 20"
     },
     "metadata": {},
     "output_type": "display_data"
    }
   ],
   "source": [
    "rand 20"
   ]
  },
  {
   "cell_type": "markdown",
   "metadata": {},
   "source": [
    "We will go back to talking about manipulating list structures after we review some of\n",
    "the basic calculator functions of K"
   ]
  },
  {
   "cell_type": "markdown",
   "metadata": {},
   "source": [
    "### K as a Calculator"
   ]
  },
  {
   "cell_type": "markdown",
   "metadata": {},
   "source": [
    "As any good scientific calculator, k comes with a number of built-in functions.\n",
    "You can apply these functions by simpy typing their names before the argument separated by a space"
   ]
  },
  {
   "cell_type": "code",
   "execution_count": 5,
   "metadata": {},
   "outputs": [
    {
     "name": "stdout",
     "output_type": "stream",
     "text": [
      "1.414214"
     ]
    },
    {
     "data": {
      "output": "sqrt 2"
     },
     "metadata": {},
     "output_type": "display_data"
    }
   ],
   "source": [
    "sqrt 2"
   ]
  },
  {
   "cell_type": "markdown",
   "metadata": {},
   "source": [
    "Trigonometric functions operate on arguments in radians and you will often need the\n",
    "π constant to convert from degrees. The π constant is built in in k and if you are using k \n",
    "on a Mac, you can type it using the alt-p key combination"
   ]
  },
  {
   "cell_type": "code",
   "execution_count": 3,
   "metadata": {},
   "outputs": [
    {
     "name": "stdout",
     "output_type": "stream",
     "text": [
      "1f"
     ]
    },
    {
     "data": {
      "output": "sin π%2"
     },
     "metadata": {},
     "output_type": "display_data"
    }
   ],
   "source": [
    "sin π%2"
   ]
  },
  {
   "cell_type": "markdown",
   "metadata": {},
   "source": [
    "Unlike some other languages that are quick to give up and report an error when given invalid input, k tries hard to \n",
    "provide useful answers. Thus if the result of a function is infinite, k will return a special ∞ value and indicate \n",
    "the sign of the infinity and such invalid result may dissapear in the subsequent computations \n",
    "When the result is completely undefined, k will return ø, which stands for missing data"
   ]
  },
  {
   "cell_type": "code",
   "execution_count": 10,
   "metadata": {},
   "outputs": [
    {
     "name": "stdout",
     "output_type": "stream",
     "text": [
      "-∞"
     ]
    },
    {
     "data": {
      "output": "log 0"
     },
     "metadata": {},
     "output_type": "display_data"
    }
   ],
   "source": [
    "log 0"
   ]
  },
  {
   "cell_type": "code",
   "execution_count": 11,
   "metadata": {},
   "outputs": [
    {
     "name": "stdout",
     "output_type": "stream",
     "text": [
      "ø"
     ]
    },
    {
     "data": {
      "output": "0%0"
     },
     "metadata": {},
     "output_type": "display_data"
    }
   ],
   "source": [
    "0%0"
   ]
  },
  {
   "cell_type": "markdown",
   "metadata": {},
   "source": [
    "#### Unary Operators"
   ]
  },
  {
   "cell_type": "markdown",
   "metadata": {},
   "source": [
    "In the previous sections, we have seen operators that take two numbers as operands and functions that take one number\n",
    "as an argument. From elementary math, you are familiar with a unary - operator that takes a single operand and returns its negation. Not surprisingly, - does the same in k:"
   ]
  },
  {
   "cell_type": "code",
   "execution_count": 12,
   "metadata": {},
   "outputs": [
    {
     "name": "stdout",
     "output_type": "stream",
     "text": [
      "-5"
     ]
    },
    {
     "data": {
      "output": "- 5"
     },
     "metadata": {},
     "output_type": "display_data"
    }
   ],
   "source": [
    "- 5"
   ]
  },
  {
   "cell_type": "markdown",
   "metadata": {},
   "source": [
    "However, k takes this idea of the same operator having both binary and unary forms to the whole new level. \n",
    "Each operator in k has both unary and binary forms. For example, similar to -, the k division operator, %, \n",
    "has a unary form that computes the inverse"
   ]
  },
  {
   "cell_type": "code",
   "execution_count": 13,
   "metadata": {},
   "outputs": [
    {
     "name": "stdout",
     "output_type": "stream",
     "text": [
      "0.3333333"
     ]
    },
    {
     "data": {
      "output": "% 3"
     },
     "metadata": {},
     "output_type": "display_data"
    }
   ],
   "source": [
    "% 3"
   ]
  },
  {
   "cell_type": "markdown",
   "metadata": {},
   "source": [
    "As you experiment with k as a calculator, you will soon notice that it does not complain about\n",
    "seemingly meaningless keystrokes. Thus a + sign on its own or following a number are simply \n",
    "echoed back by k"
   ]
  },
  {
   "cell_type": "code",
   "execution_count": 4,
   "metadata": {},
   "outputs": [
    {
     "name": "stdout",
     "output_type": "stream",
     "text": [
      "+"
     ]
    },
    {
     "data": {
      "output": "+"
     },
     "metadata": {},
     "output_type": "display_data"
    }
   ],
   "source": [
    "+"
   ]
  },
  {
   "cell_type": "markdown",
   "metadata": {},
   "source": [
    "Many of these have multiple meanings, and can be refereced by using the command \\h"
   ]
  },
  {
   "cell_type": "code",
   "execution_count": 6,
   "metadata": {},
   "outputs": [
    {
     "name": "stdout",
     "output_type": "stream",
     "text": [
      "(\"$k [-p 1234] [f.k]                           .z.i(pid) .z.x(arg) .z.e(env)\";\"\";\"Verb                       Adverb                Noun            Atom List\";\":  assign                  '  each               char  \\\" ab\\\"       `c `C\";\"+  add         flip        /  over               name  ``a`b       `n `N\";\"-  subtract    negate      \\\\  scan               int   Ø 0 2       `i `I\";\"*  multiply    first       ': eachprior          float ø 2.3 π ∞   `f `F\";\"%  divideby    inverse     /: eachright join|sv  time 12:34:56.789 `t `T   .z.t\";\"&  min|and     where       \\\\: eachleft split|vs  date 2019-06-28   `D `D   .z.D\";\"|  max|or      reverse\";\"<  less        ascend      System                list (2;3.4;`c)   `\";\">  more        descend     0: read/write line    dict {a:2;b:`c}   `a `A(table)\";\"=  equal       group       1: read/write byte    func {(+/x)%#x}   `1..9\";\"~  match       not         2: read/write data    expr  :32+9*f%5   `0\";\"!  key         enumerate   3: conn/set (.z.ms)\";\",  catenate    list        4: http/get (.z.mg)   \\\\h      help          \\\\l log\";\"^  except      null                              \\\\l f.k  load\";\"#  take        count       #[t;c;b[;a]] select   \\\\t[:n]x time\";\"_  drop        floor       _[t;c;b[;a]] update   \\\\u[:n]x trace\";\"?  find        distinct    ?[x;i;f[;y]] splice   \\\\v [d]  vars\";\"@  index       type        @[x;i;f[;y]] amend    \\\\f [d]  fns\";\".  apply       eval        .[x;i;f[;y]] dmend    \\\\cd [d] get[set]dir   \\\\gr grep\";\"$  pad|cast    string      $[c;t;f]     cond     \\\\lf [x] file \\\\lc char \\\\ll line\";\"\";\"util: in within bin like find [f]asc [f]desc [f]key\";\"math: sqrt sin cos abs prm cmb [n]log [n]exp [n]rand mod div\";\"aggr: count first last min max sum avg var dev med\";\"sql: [select|update|delete] a.. by b.. from t.. where c..\";\"\";\"datetime:YMDHRSTUV+duration:ymdhrstuv; T:.z.D+.z.t; 2019-06-28+2m; day:7 mod\";\"`year`month`date`hour`minute`second`millisecond`microsecond`nanosecond\";\"\";\"bool: `utf8`ascii`print\";\"1way: `p`m`crc`sha`rip`bad   e.g. hash:  `sha@\\\"crypto\\\"\";\"2way:``j`k`csv`b64`hex`aes   e.g. json: `j?`j@{a:2;b:`c}\";\"\";\"if[c;..];while[c;..]\";\"\";\"\\\\\\\\ exit\")"
     ]
    },
    {
     "data": {
      "output": "\\h"
     },
     "metadata": {},
     "output_type": "display_data"
    }
   ],
   "source": [
    "\\h"
   ]
  },
  {
   "cell_type": "markdown",
   "metadata": {},
   "source": [
    "### Manipulating Lists"
   ]
  },
  {
   "cell_type": "markdown",
   "metadata": {},
   "source": [
    "From now on, a will refer to a list of 12 zeros until we reuse this name by assigning it to something else.\n",
    "\n",
    "From simple lists, k can create lists of lists by cutting the lists into chunks using the _ operator (remember that a is 12 zeros). In this example, we are taking the first two zeros in the first row then zeros 2 through 5 in the second row and then the rest in the third row."
   ]
  },
  {
   "cell_type": "code",
   "execution_count": 20,
   "metadata": {},
   "outputs": [
    {
     "name": "stdout",
     "output_type": "stream",
     "text": [
      "(0 0;0 0 0 0;0 0 0 0 0 0)"
     ]
    },
    {
     "data": {
      "output": "a: &12\n0 2 6 _a"
     },
     "metadata": {},
     "output_type": "display_data"
    }
   ],
   "source": [
    "a: &12\n",
    "0 2 6 _a"
   ]
  },
  {
   "cell_type": "markdown",
   "metadata": {},
   "source": [
    "If we want to cut a list into chunks of equal size, we can use the # (reshape) operator:"
   ]
  },
  {
   "cell_type": "code",
   "execution_count": 21,
   "metadata": {},
   "outputs": [
    {
     "name": "stdout",
     "output_type": "stream",
     "text": [
      "(0 0 0 0;0 0 0 0;0 0 0 0)"
     ]
    },
    {
     "data": {
      "output": "3 4 # a"
     },
     "metadata": {},
     "output_type": "display_data"
    }
   ],
   "source": [
    "3 4 # a"
   ]
  },
  {
   "cell_type": "code",
   "execution_count": null,
   "metadata": {},
   "outputs": [],
   "source": []
  }
 ],
 "metadata": {
  "kernelspec": {
   "display_name": "kaykernel",
   "language": "k",
   "name": "kaykernel"
  },
  "language_info": {
   "file_extension": ".txt",
   "mimetype": "text/plain",
   "name": "k output"
  }
 },
 "nbformat": 4,
 "nbformat_minor": 2
}
