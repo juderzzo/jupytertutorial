{
 "cells": [
  {
   "cell_type": "markdown",
   "metadata": {},
   "source": [
    "# An intoduction to K"
   ]
  },
  {
   "cell_type": "markdown",
   "metadata": {},
   "source": [
    "Since 1992, Arthur Whitney's k and its derivatives\n",
    "have served a small number of highly skilled (and highly paid) programmers\n",
    "to create high performance applications for finance and other data-intensive\n",
    "applications.\n",
    "While implementation efforts in other languages such as C++ and\n",
    "Java (and to a lesser extent Python) often involve thousands\n",
    "of lines of code, much of it built on top of libraries,\n",
    "the typical k applications is on the order of scores of lines of code\n",
    "without the need for libraries. The power is in the language itself.\n",
    "\n",
    "This tutorial aims to take users familiar with conventional languages\n",
    "to become competent programmers in the latest iteration of k, k7.\n",
    "The tutorial introduces language concepts, then presents examples.\n",
    "A good way to learn the language is to try to program the examples on your\n",
    "own. One should try to play with the given K exampels in this kernel to try to get a feeling for the basic functions in K"
   ]
  },
  {
   "cell_type": "markdown",
   "metadata": {},
   "source": [
    "K can be downloading using either of the follwing links: "
   ]
  },
  {
   "cell_type": "markdown",
   "metadata": {},
   "source": [
    "Mac OSX: https://kdo.enlnt.com/ae92938b/macos.zip "
   ]
  },
  {
   "cell_type": "markdown",
   "metadata": {},
   "source": [
    "Linux: https://kdo.enlnt.com/k "
   ]
  },
  {
   "cell_type": "markdown",
   "metadata": {},
   "source": [
    "### Array Power"
   ]
  },
  {
   "cell_type": "markdown",
   "metadata": {},
   "source": [
    "Different computer languages have different methods of handling arrays. Python arrays can store a variable amount of different data types, wheras in java, and array can only store a fixed amount of a specific data type. However, what most of these languages have in common is that they treat arrays as lists of data, and use loops to traverse through them in linear time. K is unique, as it instead treats arrays more like vectors in mathematics than lists of data. As a result, most scalar operations can be generalized nicely to arrays."
   ]
  },
  {
   "cell_type": "markdown",
   "metadata": {},
   "source": [
    "Initializing an array in K is as simple as simple as typing each element of the array with spaces in between. Let's initialize and array of the integers 1, 2, and 3"
   ]
  },
  {
   "cell_type": "code",
   "execution_count": 4,
   "metadata": {},
   "outputs": [
    {
     "name": "stdout",
     "output_type": "stream",
     "text": [
      "1 2 3"
     ]
    },
    {
     "data": {
      "output": "1 2 3"
     },
     "metadata": {},
     "output_type": "display_data"
    }
   ],
   "source": [
    "1 2 3"
   ]
  },
  {
   "cell_type": "markdown",
   "metadata": {},
   "source": [
    "As you can see, the code just returns the array that was just initalized. Now let's try some scalar operations between 2 arrays and see what the computer returns\n"
   ]
  },
  {
   "cell_type": "code",
   "execution_count": 5,
   "metadata": {},
   "outputs": [
    {
     "name": "stdout",
     "output_type": "stream",
     "text": [
      "5 7 9"
     ]
    },
    {
     "data": {
      "output": "1 2 3 + 4 5 6"
     },
     "metadata": {},
     "output_type": "display_data"
    }
   ],
   "source": [
    "1 2 3 + 4 5 6"
   ]
  },
  {
   "cell_type": "code",
   "execution_count": 6,
   "metadata": {},
   "outputs": [
    {
     "name": "stdout",
     "output_type": "stream",
     "text": [
      "4 10 18"
     ]
    },
    {
     "data": {
      "output": "1 2 3 * 4 5 6"
     },
     "metadata": {},
     "output_type": "display_data"
    }
   ],
   "source": [
    "1 2 3 * 4 5 6"
   ]
  },
  {
   "cell_type": "markdown",
   "metadata": {},
   "source": [
    "These oprations just apply the scalar operation between each individual element of the array. However, if we try to do these same operations on two arrays of different lengths, we get a length error as the operation would not make sense."
   ]
  },
  {
   "cell_type": "code",
   "execution_count": 23,
   "metadata": {},
   "outputs": [
    {
     "name": "stdout",
     "output_type": "stream",
     "text": []
    },
    {
     "data": {
      "output": "1 2 3 + 4 5"
     },
     "metadata": {},
     "output_type": "display_data"
    }
   ],
   "source": [
    "1 2 3 + 4 5"
   ]
  },
  {
   "cell_type": "markdown",
   "metadata": {},
   "source": [
    "Now that we've seen how we can treat arrays as we would vectors, let's see how we can cleanly generate some arrays using the built in commands K has given us. We always have the options to type in our own array by spacing elements of the same data type apart from eachother, but we can also try generating arrays of 0s using the &, as well as ordered arrays."
   ]
  },
  {
   "cell_type": "code",
   "execution_count": 11,
   "metadata": {},
   "outputs": [
    {
     "name": "stdout",
     "output_type": "stream",
     "text": [
      "0 0 0 0 0 0 0 0 0 0"
     ]
    },
    {
     "data": {
      "output": "&10"
     },
     "metadata": {},
     "output_type": "display_data"
    }
   ],
   "source": [
    "&10"
   ]
  },
  {
   "cell_type": "markdown",
   "metadata": {},
   "source": [
    "The ! symbol generates arrays from 0 to a certain integer. They are summarized by k just as !10. In order to get k to print out the whole array, we can follow this symbol with a /"
   ]
  },
  {
   "cell_type": "code",
   "execution_count": 24,
   "metadata": {},
   "outputs": [
    {
     "name": "stdout",
     "output_type": "stream",
     "text": [
      "0 1 2 3 4 5 6 7 8 9"
     ]
    },
    {
     "data": {
      "output": "x: !10\nx + 0 /"
     },
     "metadata": {},
     "output_type": "display_data"
    }
   ],
   "source": [
    "x: !10\n",
    "x + 0 /"
   ]
  },
  {
   "cell_type": "markdown",
   "metadata": {},
   "source": [
    "In the code above, we also added 0 to the array. But unlike the previous time we tried to add two arrays of differnet lengths and got an error, this time, K knew what to do. Let's see what happens when we add another scalar, say 5, to that same  array (we also defined it as the variable x, but we'll cover variables and functions later).  Also, something to note. If we were just to type x into the prompt, K would return !10 instead of the list to summarize."
   ]
  },
  {
   "cell_type": "code",
   "execution_count": 7,
   "metadata": {},
   "outputs": [
    {
     "name": "stdout",
     "output_type": "stream",
     "text": [
      "5 6 7 8 9 10 11 12 13 14"
     ]
    },
    {
     "data": {
      "output": "x: !10\nx + 5 /"
     },
     "metadata": {},
     "output_type": "display_data"
    }
   ],
   "source": [
    "x: !10\n",
    "x + 5 /"
   ]
  },
  {
   "cell_type": "markdown",
   "metadata": {},
   "source": [
    "As we can see, the scalar adds to each element of the list. If we chose to multiply by 5, we would achieve the same result:"
   ]
  },
  {
   "cell_type": "code",
   "execution_count": 27,
   "metadata": {},
   "outputs": [
    {
     "name": "stdout",
     "output_type": "stream",
     "text": [
      "0 5 10 15 20 25 30 35 40 45"
     ]
    },
    {
     "data": {
      "output": "x: !10\nx * 5"
     },
     "metadata": {},
     "output_type": "display_data"
    }
   ],
   "source": [
    "x: !10\n",
    "x * 5"
   ]
  },
  {
   "cell_type": "markdown",
   "metadata": {},
   "source": [
    "Let's look at some other ways to generate lists. We can use the ? symbol to randomly generate different types of lists. The command x ? y generaters a list of x random integers from 0 to y, with replacement. If we wanted to generate without replacement, we could type -x."
   ]
  },
  {
   "cell_type": "code",
   "execution_count": null,
   "metadata": {},
   "outputs": [],
   "source": [
    "x"
   ]
  },
  {
   "cell_type": "code",
   "execution_count": 17,
   "metadata": {},
   "outputs": [
    {
     "name": "stdout",
     "output_type": "stream",
     "text": []
    },
    {
     "data": {
      "output": "x: 10 ? 10\nx + 2"
     },
     "metadata": {},
     "output_type": "display_data"
    }
   ],
   "source": []
  },
  {
   "cell_type": "code",
   "execution_count": null,
   "metadata": {},
   "outputs": [],
   "source": []
  }
 ],
 "metadata": {
  "kernelspec": {
   "display_name": "kaykernel",
   "language": "k",
   "name": "kaykernel"
  },
  "language_info": {
   "file_extension": ".txt",
   "mimetype": "text/plain",
   "name": "k output"
  }
 },
 "nbformat": 4,
 "nbformat_minor": 2
}
